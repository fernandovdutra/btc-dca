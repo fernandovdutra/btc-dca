{
 "cells": [
  {
   "cell_type": "markdown",
   "id": "37c9a6cf-f20f-4c6a-be36-b7140626bf4a",
   "metadata": {},
   "source": [
    "# Bitcoin DCA strategies comparison"
   ]
  },
  {
   "cell_type": "markdown",
   "id": "61865e48-9429-4cbf-ac58-5a6b6d4eb25b",
   "metadata": {},
   "source": [
    "1. is there any dca strategy which overperforms the others?\n",
    "2. is there anything else that can be done on top of the dca?"
   ]
  },
  {
   "cell_type": "code",
   "execution_count": 36,
   "id": "f53d7df1-760a-4f9b-9aa2-763756c832bd",
   "metadata": {},
   "outputs": [
    {
     "data": {
      "text/plain": [
       "'/Users/alinemartinscs/projects/btc-dca'"
      ]
     },
     "execution_count": 36,
     "metadata": {},
     "output_type": "execute_result"
    }
   ],
   "source": [
    "import os\n",
    "import pandas as pd\n",
    "import numpy as np\n",
    "import matplotlib.pyplot as plt\n",
    "os.getcwd()"
   ]
  },
  {
   "cell_type": "code",
   "execution_count": 23,
   "id": "31b6a05c-0929-421e-b1ea-8a02e53b4846",
   "metadata": {},
   "outputs": [
    {
     "data": {
      "text/plain": [
       "Index(['Time', 'BTC / USD Denominated Closing Price',\n",
       "       'BTC / MVRV (Market Cap / Realized Market Cap)',\n",
       "       'BTC / 30 Day Volatility', 'BTC / 180 Day Volatility'],\n",
       "      dtype='object')"
      ]
     },
     "execution_count": 23,
     "metadata": {},
     "output_type": "execute_result"
    }
   ],
   "source": [
    "data = pd.DataFrame(pd.read_csv(\"btcdata.csv\", sep='\\t'))\n",
    "data.columns"
   ]
  },
  {
   "cell_type": "code",
   "execution_count": 26,
   "id": "2920785f-a148-49fd-84a2-0d3e262a5128",
   "metadata": {},
   "outputs": [
    {
     "data": {
      "text/plain": [
       "Index(['Time', 'price_usd', 'ratio_mktcap_realizedmktcap', '30_day_volatility',\n",
       "       '180_day_volatility'],\n",
       "      dtype='object')"
      ]
     },
     "execution_count": 26,
     "metadata": {},
     "output_type": "execute_result"
    }
   ],
   "source": [
    "data.Time = pd.to_datetime(data.Time)\n",
    "data.rename(columns={'BTC / USD Denominated Closing Price': 'price_usd'}, inplace=True)\n",
    "data.rename(columns={'BTC / MVRV (Market Cap / Realized Market Cap)': 'ratio_mktcap_realizedmktcap'}, inplace=True)\n",
    "data.rename(columns={'BTC / 30 Day Volatility': '30_day_volatility'}, inplace=True)\n",
    "data.rename(columns={'BTC / 180 Day Volatility': '180_day_volatility'}, inplace=True)\n",
    "data.columns"
   ]
  },
  {
   "cell_type": "code",
   "execution_count": 124,
   "id": "33d04f76-bdad-4cd8-9dcb-79f3ee47540e",
   "metadata": {},
   "outputs": [
    {
     "data": {
      "image/png": "[encoded data removed]",
      "text/plain": [
       "<Figure size 432x288 with 1 Axes>"
      ]
     },
     "metadata": {
      "needs_background": "light"
     },
     "output_type": "display_data"
    }
   ],
   "source": [
    "# plot btc usd price\n",
    "df = pd.DataFrame()\n",
    "df['value'] = data.price_usd\n",
    "df = df.set_index(data.Time)\n",
    "plt.plot(df)\n",
    "plt.gcf().autofmt_xdate()\n",
    "plt.show()"
   ]
  },
  {
   "cell_type": "code",
   "execution_count": 263,
   "id": "33efab6a-f167-4a16-941b-6cb35ba20a0a",
   "metadata": {},
   "outputs": [
    {
     "ename": "TypeError",
     "evalue": "'_iAtIndexer' object is not callable",
     "output_type": "error",
     "traceback": [
      "\u001b[0;31m---------------------------------------------------------------------------\u001b[0m",
      "\u001b[0;31mTypeError\u001b[0m                                 Traceback (most recent call last)",
      "\u001b[0;32m<ipython-input-263-d9ef17544a27>\u001b[0m in \u001b[0;36m<module>\u001b[0;34m\u001b[0m\n\u001b[1;32m     11\u001b[0m \u001b[0;34m\u001b[0m\u001b[0m\n\u001b[1;32m     12\u001b[0m \u001b[0;32mfor\u001b[0m \u001b[0mi\u001b[0m \u001b[0;32min\u001b[0m \u001b[0mdata\u001b[0m\u001b[0;34m[\u001b[0m\u001b[0;34m'Time'\u001b[0m\u001b[0;34m]\u001b[0m\u001b[0;34m.\u001b[0m\u001b[0mindex\u001b[0m\u001b[0;34m:\u001b[0m\u001b[0;34m\u001b[0m\u001b[0;34m\u001b[0m\u001b[0m\n\u001b[0;32m---> 13\u001b[0;31m     \u001b[0mout_metrics\u001b[0m\u001b[0;34m[\u001b[0m\u001b[0mi\u001b[0m\u001b[0;34m]\u001b[0m \u001b[0;34m=\u001b[0m \u001b[0mexecuteDCA\u001b[0m\u001b[0;34m(\u001b[0m\u001b[0mdata\u001b[0m\u001b[0;34m,\u001b[0m \u001b[0mdata\u001b[0m\u001b[0;34m[\u001b[0m\u001b[0;34m'Time'\u001b[0m\u001b[0;34m]\u001b[0m\u001b[0;34m.\u001b[0m\u001b[0miat\u001b[0m\u001b[0;34m(\u001b[0m\u001b[0mi\u001b[0m\u001b[0;34m)\u001b[0m\u001b[0;34m,\u001b[0m \u001b[0mpurchase_freq_days\u001b[0m\u001b[0;34m,\u001b[0m \u001b[0mbuy_contr\u001b[0m\u001b[0;34m)\u001b[0m\u001b[0;34m\u001b[0m\u001b[0;34m\u001b[0m\u001b[0m\n\u001b[0m\u001b[1;32m     14\u001b[0m \u001b[0;34m\u001b[0m\u001b[0m\n\u001b[1;32m     15\u001b[0m \u001b[0;31m#plotGains(data, out_metrics['total_days'])\u001b[0m\u001b[0;34m\u001b[0m\u001b[0;34m\u001b[0m\u001b[0;34m\u001b[0m\u001b[0m\n",
      "\u001b[0;31mTypeError\u001b[0m: '_iAtIndexer' object is not callable"
     ]
    }
   ],
   "source": [
    "# DCA setup constants\n",
    "#start_date = data.Time[2]\n",
    "\n",
    "strategy_results = {}\n",
    "strategy_results['out_metrics'] = []\n",
    "strategy_results['data'] = []\n",
    "#start_date = pd.to_datetime('2018-01-01')\n",
    "purchase_freq_days = 30\n",
    "yearly_contribution_usd = 1000\n",
    "buy_contr = yearly_contribution_usd / 365 * purchase_freq_days\n",
    "\n",
    "for i in data['Time'].index:\n",
    "    out_metrics[i] = executeDCA(data, data['Time'].iat(i), purchase_freq_days, buy_contr)\n",
    "\n",
    "#plotGains(data, out_metrics['total_days'])\n",
    "\n",
    "\n",
    "\n",
    "\n",
    "# SHOW METRICS\n",
    "out_metrics\n",
    "#data.gains_perc"
   ]
  },
  {
   "cell_type": "code",
   "execution_count": 246,
   "id": "de1cdf6e-bacf-4852-98fc-ab89e0902ed2",
   "metadata": {},
   "outputs": [],
   "source": [
    "def plotGains(data, total_days):\n",
    "    # PLOT\n",
    "    fig, (ax1, ax2) = plt.subplots(2)\n",
    "\n",
    "    df1 = pd.DataFrame()\n",
    "    df1['price_usd'] = data.price_usd\n",
    "    df1['accum_invested_usd'] = data.accum_invested_usd\n",
    "    df1['portfolio_value_usd'] = data.portfolio_value_usd\n",
    "    df1 = df1.set_index(data.Time)\n",
    "    ax1.plot(df1.tail(total_days))\n",
    "    ax1.set_title('Values')\n",
    "    ax1.set(ylabel='USD')\n",
    "\n",
    "    df2 = pd.DataFrame()\n",
    "    df2['gains_perc'] = data.gains_perc\n",
    "    df2 = df2.set_index(data.Time)\n",
    "    ax2.plot(df2.tail(total_days))\n",
    "    ax2.set_title('Gains')\n",
    "    ax2.set(ylabel='Percentage (%)')\n",
    "\n",
    "    plt.gcf().autofmt_xdate()\n",
    "    plt.show()"
   ]
  },
  {
   "cell_type": "code",
   "execution_count": null,
   "id": "a40f2d91-f5a6-4561-99ed-e87aca4f8af2",
   "metadata": {},
   "outputs": [],
   "source": []
  },
  {
   "cell_type": "code",
   "execution_count": null,
   "id": "35b4f5e2-1803-431d-a772-c19a15904418",
   "metadata": {},
   "outputs": [],
   "source": []
  },
  {
   "cell_type": "code",
   "execution_count": 261,
   "id": "33581572-5602-4ed2-919c-911761897081",
   "metadata": {},
   "outputs": [],
   "source": [
    "def executeDCA(data, start_date, purchase_freq_days, buy_contr):\n",
    "    \n",
    "    #dca_active mask tells the period in which the strategy is being executed\n",
    "    data['dca_active'] = data['Time'] >= start_date\n",
    "\n",
    "    #dca_days - how many days the strategy is being executed\n",
    "    dca_days = np.zeros(data.shape[0])\n",
    "    for i, row in data.iterrows():\n",
    "        if row.dca_active:\n",
    "            dca_days[i] = dca_days[i-1] + 1\n",
    "    data['dca_days'] = dca_days\n",
    "\n",
    "    # a trigger indicating buy moments\n",
    "    data['dca_buy_trigger'] = data['dca_active'] & (data['dca_days'] % purchase_freq_days == 0)\n",
    "\n",
    "    # calculate accums\n",
    "    purchase_btc = np.zeros(data.shape[0])\n",
    "    accum_invested_usd = np.zeros(data.shape[0])\n",
    "    accum_btc = np.zeros(data.shape[0])\n",
    "    portfolio_value_usd = np.zeros(data.shape[0])\n",
    "    gains_perc = np.zeros(data.shape[0])\n",
    "    for i, row in data.iterrows():\n",
    "        if row.dca_buy_trigger:\n",
    "            purchase_btc[i] = buy_contr / row.price_usd\n",
    "            accum_invested_usd[i] = accum_invested_usd[i-1] + buy_contr\n",
    "            accum_btc[i] = accum_btc[i-1] + purchase_btc[i]\n",
    "        else:\n",
    "            accum_invested_usd[i] = accum_invested_usd[i-1] \n",
    "            accum_btc[i] = accum_btc[i-1]\n",
    "\n",
    "        portfolio_value_usd[i] = row.price_usd * accum_btc[i]\n",
    "        #gains_perc[i] = portfolio_value_usd[i] / accum_invested_usd[i]\n",
    "    data['purchase_btc'] = purchase_btc\n",
    "    data['accum_invested_usd'] = accum_invested_usd\n",
    "    data['accum_btc'] = accum_btc\n",
    "    data['portfolio_value_usd'] = portfolio_value_usd\n",
    "    data['gains_perc'] = portfolio_value_usd / accum_invested_usd * 100\n",
    "\n",
    "    out_metrics = {}\n",
    "    out_metrics['total_days'] = int(data.dca_days.tail(1))\n",
    "    out_metrics['total_invested_usd'] = float(data.accum_invested_usd.tail(1))\n",
    "    out_metrics['net_worth'] = float(data.portfolio_value_usd.tail(1))\n",
    "    out_metrics['gains_perc'] = float(data.gains_perc.tail(1))\n",
    "    #out_metrics = pd.DataFrame(out_metrics)\n",
    "    \n",
    "    \n",
    "    return out_metrics\n"
   ]
  },
  {
   "cell_type": "code",
   "execution_count": null,
   "id": "9220e220-1a0c-47ac-8e38-cd4f55d292e8",
   "metadata": {},
   "outputs": [],
   "source": []
  },
  {
   "cell_type": "code",
   "execution_count": 193,
   "id": "5e1a2cd1-7488-4270-ad37-b9177a9618b6",
   "metadata": {},
   "outputs": [
    {
     "data": {
      "image/png": "[encoded data removed]",
      "text/plain": [
       "<Figure size 432x288 with 2 Axes>"
      ]
     },
     "metadata": {
      "needs_background": "light"
     },
     "output_type": "display_data"
    }
   ],
   "source": []
  },
  {
   "cell_type": "code",
   "execution_count": 171,
   "id": "eb08d58e-7262-40c5-8492-c415c2fbcf7e",
   "metadata": {},
   "outputs": [
    {
     "data": {
      "text/plain": [
       "1970"
      ]
     },
     "execution_count": 171,
     "metadata": {},
     "output_type": "execute_result"
    }
   ],
   "source": [
    "out_metrics['total_days']"
   ]
  },
  {
   "cell_type": "code",
   "execution_count": null,
   "id": "44efab80-1312-46a8-9a91-0405eb80dab2",
   "metadata": {},
   "outputs": [],
   "source": []
  },
  {
   "cell_type": "code",
   "execution_count": null,
   "id": "7943eb25-8df6-4241-a9a6-f84f26318116",
   "metadata": {},
   "outputs": [],
   "source": []
  }
 ],
 "metadata": {
  "kernelspec": {
   "display_name": "Python 3",
   "language": "python",
   "name": "python3"
  },
  "language_info": {
   "codemirror_mode": {
    "name": "ipython",
    "version": 3
   },
   "file_extension": ".py",
   "mimetype": "text/x-python",
   "name": "python",
   "nbconvert_exporter": "python",
   "pygments_lexer": "ipython3",
   "version": "3.9.5"
  }
 },
 "nbformat": 4,
 "nbformat_minor": 5
}
